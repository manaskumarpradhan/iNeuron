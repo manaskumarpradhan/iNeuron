{
 "cells": [
  {
   "cell_type": "markdown",
   "metadata": {},
   "source": [
    "Data Set Information:\n",
    "\n",
    "The NASA data set comprises different size NACA 0012 airfoils at various wind tunnel speeds and angles of attack. The span of the airfoil and the observer position were the same in all of the experiments.\n",
    "\n",
    "\n",
    "Attribute Information:\n",
    "\n",
    "This problem has the following inputs:\n",
    "1. Frequency, in Hertzs.\n",
    "2. Angle of attack, in degrees.\n",
    "3. Chord length, in meters.\n",
    "4. Free-stream velocity, in meters per second.\n",
    "5. Suction side displacement thickness, in meters.\n",
    "\n",
    "The only output is:\n",
    "6. Scaled sound pressure level, in decibels.\n",
    "\n",
    "#downloaded the file from below link\n",
    "# https://archive.ics.uci.edu/ml/machine-learning-databases/00291/"
   ]
  },
  {
   "cell_type": "code",
   "execution_count": 3,
   "metadata": {},
   "outputs": [],
   "source": [
    "#importing libraries\n",
    "import pandas as pd\n",
    "import numpy as np\n",
    "import matplotlib.pyplot as plt\n",
    "import seaborn as sns"
   ]
  },
  {
   "cell_type": "code",
   "execution_count": 9,
   "metadata": {},
   "outputs": [
    {
     "data": {
      "text/plain": [
       "(1503, 6)"
      ]
     },
     "execution_count": 9,
     "metadata": {},
     "output_type": "execute_result"
    }
   ],
   "source": [
    "#importing data\n",
    "data = pd.read_csv('airfoil_self_noise.dat',sep=\"\\s+\",header=None)\n",
    "data.shape"
   ]
  },
  {
   "cell_type": "code",
   "execution_count": 10,
   "metadata": {},
   "outputs": [
    {
     "data": {
      "text/html": [
       "<div>\n",
       "<style scoped>\n",
       "    .dataframe tbody tr th:only-of-type {\n",
       "        vertical-align: middle;\n",
       "    }\n",
       "\n",
       "    .dataframe tbody tr th {\n",
       "        vertical-align: top;\n",
       "    }\n",
       "\n",
       "    .dataframe thead th {\n",
       "        text-align: right;\n",
       "    }\n",
       "</style>\n",
       "<table border=\"1\" class=\"dataframe\">\n",
       "  <thead>\n",
       "    <tr style=\"text-align: right;\">\n",
       "      <th></th>\n",
       "      <th>0</th>\n",
       "      <th>1</th>\n",
       "      <th>2</th>\n",
       "      <th>3</th>\n",
       "      <th>4</th>\n",
       "      <th>5</th>\n",
       "    </tr>\n",
       "  </thead>\n",
       "  <tbody>\n",
       "    <tr>\n",
       "      <th>0</th>\n",
       "      <td>800</td>\n",
       "      <td>0.0</td>\n",
       "      <td>0.3048</td>\n",
       "      <td>71.3</td>\n",
       "      <td>0.002663</td>\n",
       "      <td>126.201</td>\n",
       "    </tr>\n",
       "    <tr>\n",
       "      <th>1</th>\n",
       "      <td>1000</td>\n",
       "      <td>0.0</td>\n",
       "      <td>0.3048</td>\n",
       "      <td>71.3</td>\n",
       "      <td>0.002663</td>\n",
       "      <td>125.201</td>\n",
       "    </tr>\n",
       "    <tr>\n",
       "      <th>2</th>\n",
       "      <td>1250</td>\n",
       "      <td>0.0</td>\n",
       "      <td>0.3048</td>\n",
       "      <td>71.3</td>\n",
       "      <td>0.002663</td>\n",
       "      <td>125.951</td>\n",
       "    </tr>\n",
       "    <tr>\n",
       "      <th>3</th>\n",
       "      <td>1600</td>\n",
       "      <td>0.0</td>\n",
       "      <td>0.3048</td>\n",
       "      <td>71.3</td>\n",
       "      <td>0.002663</td>\n",
       "      <td>127.591</td>\n",
       "    </tr>\n",
       "    <tr>\n",
       "      <th>4</th>\n",
       "      <td>2000</td>\n",
       "      <td>0.0</td>\n",
       "      <td>0.3048</td>\n",
       "      <td>71.3</td>\n",
       "      <td>0.002663</td>\n",
       "      <td>127.461</td>\n",
       "    </tr>\n",
       "  </tbody>\n",
       "</table>\n",
       "</div>"
      ],
      "text/plain": [
       "      0    1       2     3         4        5\n",
       "0   800  0.0  0.3048  71.3  0.002663  126.201\n",
       "1  1000  0.0  0.3048  71.3  0.002663  125.201\n",
       "2  1250  0.0  0.3048  71.3  0.002663  125.951\n",
       "3  1600  0.0  0.3048  71.3  0.002663  127.591\n",
       "4  2000  0.0  0.3048  71.3  0.002663  127.461"
      ]
     },
     "execution_count": 10,
     "metadata": {},
     "output_type": "execute_result"
    }
   ],
   "source": [
    "#looking at the header of the dataset\n",
    "data.head()"
   ]
  },
  {
   "cell_type": "code",
   "execution_count": 12,
   "metadata": {},
   "outputs": [
    {
     "data": {
      "text/html": [
       "<div>\n",
       "<style scoped>\n",
       "    .dataframe tbody tr th:only-of-type {\n",
       "        vertical-align: middle;\n",
       "    }\n",
       "\n",
       "    .dataframe tbody tr th {\n",
       "        vertical-align: top;\n",
       "    }\n",
       "\n",
       "    .dataframe thead th {\n",
       "        text-align: right;\n",
       "    }\n",
       "</style>\n",
       "<table border=\"1\" class=\"dataframe\">\n",
       "  <thead>\n",
       "    <tr style=\"text-align: right;\">\n",
       "      <th></th>\n",
       "      <th>count</th>\n",
       "      <th>mean</th>\n",
       "      <th>std</th>\n",
       "      <th>min</th>\n",
       "      <th>25%</th>\n",
       "      <th>50%</th>\n",
       "      <th>75%</th>\n",
       "      <th>max</th>\n",
       "    </tr>\n",
       "  </thead>\n",
       "  <tbody>\n",
       "    <tr>\n",
       "      <th>0</th>\n",
       "      <td>1503.0</td>\n",
       "      <td>2886.380572</td>\n",
       "      <td>3152.573137</td>\n",
       "      <td>200.000000</td>\n",
       "      <td>800.000000</td>\n",
       "      <td>1600.000000</td>\n",
       "      <td>4000.000000</td>\n",
       "      <td>20000.000000</td>\n",
       "    </tr>\n",
       "    <tr>\n",
       "      <th>1</th>\n",
       "      <td>1503.0</td>\n",
       "      <td>6.782302</td>\n",
       "      <td>5.918128</td>\n",
       "      <td>0.000000</td>\n",
       "      <td>2.000000</td>\n",
       "      <td>5.400000</td>\n",
       "      <td>9.900000</td>\n",
       "      <td>22.200000</td>\n",
       "    </tr>\n",
       "    <tr>\n",
       "      <th>2</th>\n",
       "      <td>1503.0</td>\n",
       "      <td>0.136548</td>\n",
       "      <td>0.093541</td>\n",
       "      <td>0.025400</td>\n",
       "      <td>0.050800</td>\n",
       "      <td>0.101600</td>\n",
       "      <td>0.228600</td>\n",
       "      <td>0.304800</td>\n",
       "    </tr>\n",
       "    <tr>\n",
       "      <th>3</th>\n",
       "      <td>1503.0</td>\n",
       "      <td>50.860745</td>\n",
       "      <td>15.572784</td>\n",
       "      <td>31.700000</td>\n",
       "      <td>39.600000</td>\n",
       "      <td>39.600000</td>\n",
       "      <td>71.300000</td>\n",
       "      <td>71.300000</td>\n",
       "    </tr>\n",
       "    <tr>\n",
       "      <th>4</th>\n",
       "      <td>1503.0</td>\n",
       "      <td>0.011140</td>\n",
       "      <td>0.013150</td>\n",
       "      <td>0.000401</td>\n",
       "      <td>0.002535</td>\n",
       "      <td>0.004957</td>\n",
       "      <td>0.015576</td>\n",
       "      <td>0.058411</td>\n",
       "    </tr>\n",
       "    <tr>\n",
       "      <th>5</th>\n",
       "      <td>1503.0</td>\n",
       "      <td>124.835943</td>\n",
       "      <td>6.898657</td>\n",
       "      <td>103.380000</td>\n",
       "      <td>120.191000</td>\n",
       "      <td>125.721000</td>\n",
       "      <td>129.995500</td>\n",
       "      <td>140.987000</td>\n",
       "    </tr>\n",
       "  </tbody>\n",
       "</table>\n",
       "</div>"
      ],
      "text/plain": [
       "    count         mean          std         min         25%          50%  \\\n",
       "0  1503.0  2886.380572  3152.573137  200.000000  800.000000  1600.000000   \n",
       "1  1503.0     6.782302     5.918128    0.000000    2.000000     5.400000   \n",
       "2  1503.0     0.136548     0.093541    0.025400    0.050800     0.101600   \n",
       "3  1503.0    50.860745    15.572784   31.700000   39.600000    39.600000   \n",
       "4  1503.0     0.011140     0.013150    0.000401    0.002535     0.004957   \n",
       "5  1503.0   124.835943     6.898657  103.380000  120.191000   125.721000   \n",
       "\n",
       "           75%           max  \n",
       "0  4000.000000  20000.000000  \n",
       "1     9.900000     22.200000  \n",
       "2     0.228600      0.304800  \n",
       "3    71.300000     71.300000  \n",
       "4     0.015576      0.058411  \n",
       "5   129.995500    140.987000  "
      ]
     },
     "execution_count": 12,
     "metadata": {},
     "output_type": "execute_result"
    }
   ],
   "source": [
    "#looking at the basic statistics\n",
    "data.describe().transpose()"
   ]
  },
  {
   "cell_type": "code",
   "execution_count": 13,
   "metadata": {},
   "outputs": [
    {
     "data": {
      "text/plain": [
       "0    0\n",
       "1    0\n",
       "2    0\n",
       "3    0\n",
       "4    0\n",
       "5    0\n",
       "dtype: int64"
      ]
     },
     "execution_count": 13,
     "metadata": {},
     "output_type": "execute_result"
    }
   ],
   "source": [
    "#looking at the NA Values\n",
    "data.isna().sum()"
   ]
  },
  {
   "cell_type": "markdown",
   "metadata": {},
   "source": [
    "Univariate Analysis"
   ]
  },
  {
   "cell_type": "code",
   "execution_count": 23,
   "metadata": {},
   "outputs": [],
   "source": [
    "#a function for univariate analysis\n",
    "def univariate_analysis(df,col):\n",
    "    df1=df.copy()\n",
    "    plt.hist(df1[col])\n",
    "    plt.title(col)\n",
    "    plt.show()"
   ]
  },
  {
   "cell_type": "code",
   "execution_count": 24,
   "metadata": {},
   "outputs": [
    {
     "data": {
      "image/png": "[encoded data removed]",
      "text/plain": [
       "<Figure size 432x288 with 1 Axes>"
      ]
     },
     "metadata": {
      "needs_background": "light"
     },
     "output_type": "display_data"
    },
    {
     "data": {
      "image/png": "[encoded data removed]",
      "text/plain": [
       "<Figure size 432x288 with 1 Axes>"
      ]
     },
     "metadata": {
      "needs_background": "light"
     },
     "output_type": "display_data"
    },
    {
     "data": {
      "image/png": "[encoded data removed]",
      "text/plain": [
       "<Figure size 432x288 with 1 Axes>"
      ]
     },
     "metadata": {
      "needs_background": "light"
     },
     "output_type": "display_data"
    },
    {
     "data": {
      "image/png": "[encoded data removed]",
      "text/plain": [
       "<Figure size 432x288 with 1 Axes>"
      ]
     },
     "metadata": {
      "needs_background": "light"
     },
     "output_type": "display_data"
    },
    {
     "data": {
      "image/png": "[encoded data removed]",
      "text/plain": [
       "<Figure size 432x288 with 1 Axes>"
      ]
     },
     "metadata": {
      "needs_background": "light"
     },
     "output_type": "display_data"
    },
    {
     "data": {
      "image/png": "[encoded data removed]",
      "text/plain": [
       "<Figure size 432x288 with 1 Axes>"
      ]
     },
     "metadata": {
      "needs_background": "light"
     },
     "output_type": "display_data"
    }
   ],
   "source": [
    "#distribution of variables\n",
    "for col in data.columns.values:\n",
    "    univariate_analysis(data,col)"
   ]
  },
  {
   "cell_type": "code",
   "execution_count": 26,
   "metadata": {},
   "outputs": [
    {
     "data": {
      "text/html": [
       "<div>\n",
       "<style scoped>\n",
       "    .dataframe tbody tr th:only-of-type {\n",
       "        vertical-align: middle;\n",
       "    }\n",
       "\n",
       "    .dataframe tbody tr th {\n",
       "        vertical-align: top;\n",
       "    }\n",
       "\n",
       "    .dataframe thead th {\n",
       "        text-align: right;\n",
       "    }\n",
       "</style>\n",
       "<table border=\"1\" class=\"dataframe\">\n",
       "  <thead>\n",
       "    <tr style=\"text-align: right;\">\n",
       "      <th></th>\n",
       "      <th>0</th>\n",
       "      <th>1</th>\n",
       "      <th>2</th>\n",
       "      <th>3</th>\n",
       "      <th>4</th>\n",
       "      <th>5</th>\n",
       "    </tr>\n",
       "  </thead>\n",
       "  <tbody>\n",
       "    <tr>\n",
       "      <th>0</th>\n",
       "      <td>1.000000</td>\n",
       "      <td>-0.272765</td>\n",
       "      <td>-0.003661</td>\n",
       "      <td>0.133664</td>\n",
       "      <td>-0.230107</td>\n",
       "      <td>-0.390711</td>\n",
       "    </tr>\n",
       "    <tr>\n",
       "      <th>1</th>\n",
       "      <td>-0.272765</td>\n",
       "      <td>1.000000</td>\n",
       "      <td>-0.504868</td>\n",
       "      <td>0.058760</td>\n",
       "      <td>0.753394</td>\n",
       "      <td>-0.156108</td>\n",
       "    </tr>\n",
       "    <tr>\n",
       "      <th>2</th>\n",
       "      <td>-0.003661</td>\n",
       "      <td>-0.504868</td>\n",
       "      <td>1.000000</td>\n",
       "      <td>0.003787</td>\n",
       "      <td>-0.220842</td>\n",
       "      <td>-0.236162</td>\n",
       "    </tr>\n",
       "    <tr>\n",
       "      <th>3</th>\n",
       "      <td>0.133664</td>\n",
       "      <td>0.058760</td>\n",
       "      <td>0.003787</td>\n",
       "      <td>1.000000</td>\n",
       "      <td>-0.003974</td>\n",
       "      <td>0.125103</td>\n",
       "    </tr>\n",
       "    <tr>\n",
       "      <th>4</th>\n",
       "      <td>-0.230107</td>\n",
       "      <td>0.753394</td>\n",
       "      <td>-0.220842</td>\n",
       "      <td>-0.003974</td>\n",
       "      <td>1.000000</td>\n",
       "      <td>-0.312670</td>\n",
       "    </tr>\n",
       "    <tr>\n",
       "      <th>5</th>\n",
       "      <td>-0.390711</td>\n",
       "      <td>-0.156108</td>\n",
       "      <td>-0.236162</td>\n",
       "      <td>0.125103</td>\n",
       "      <td>-0.312670</td>\n",
       "      <td>1.000000</td>\n",
       "    </tr>\n",
       "  </tbody>\n",
       "</table>\n",
       "</div>"
      ],
      "text/plain": [
       "          0         1         2         3         4         5\n",
       "0  1.000000 -0.272765 -0.003661  0.133664 -0.230107 -0.390711\n",
       "1 -0.272765  1.000000 -0.504868  0.058760  0.753394 -0.156108\n",
       "2 -0.003661 -0.504868  1.000000  0.003787 -0.220842 -0.236162\n",
       "3  0.133664  0.058760  0.003787  1.000000 -0.003974  0.125103\n",
       "4 -0.230107  0.753394 -0.220842 -0.003974  1.000000 -0.312670\n",
       "5 -0.390711 -0.156108 -0.236162  0.125103 -0.312670  1.000000"
      ]
     },
     "execution_count": 26,
     "metadata": {},
     "output_type": "execute_result"
    }
   ],
   "source": [
    "data.corr()"
   ]
  },
  {
   "cell_type": "code",
   "execution_count": 57,
   "metadata": {},
   "outputs": [
    {
     "data": {
      "text/plain": [
       "((1202, 5), (301, 5))"
      ]
     },
     "execution_count": 57,
     "metadata": {},
     "output_type": "execute_result"
    }
   ],
   "source": [
    "#dividing into train test split\n",
    "from sklearn.model_selection import train_test_split\n",
    "X_train,X_test,y_train,y_test = train_test_split(data.loc[:,[0,1,2,3,4]].values,data.loc[:,5].values,test_size=0.2,random_state=42)\n",
    "X_train.shape,X_test.shape"
   ]
  },
  {
   "cell_type": "code",
   "execution_count": 31,
   "metadata": {},
   "outputs": [],
   "source": [
    "#building the firstcut model\n",
    "from tensorflow.keras.models import Sequential\n",
    "from tensorflow.keras.layers import Dense\n",
    "from tensorflow.keras.optimizers import Adam, SGD"
   ]
  },
  {
   "cell_type": "code",
   "execution_count": 59,
   "metadata": {},
   "outputs": [],
   "source": [
    "optimizer = Adam(learning_rate=0.001)"
   ]
  },
  {
   "cell_type": "code",
   "execution_count": 67,
   "metadata": {},
   "outputs": [],
   "source": [
    "regressor = Sequential()\n",
    "regressor.add(Dense(units=12,activation='relu'))\n",
    "regressor.add(Dense(units=6,activation='relu'))\n",
    "regressor.add(Dense(units=1))\n",
    "\n",
    "regressor.compile(optimizer=optimizer,loss='mean_squared_error',metrics=['mse'])\n"
   ]
  },
  {
   "cell_type": "code",
   "execution_count": 68,
   "metadata": {},
   "outputs": [
    {
     "name": "stdout",
     "output_type": "stream",
     "text": [
      "Train on 1202 samples, validate on 301 samples\n",
      "Epoch 1/50\n",
      "1202/1202 - 1s - loss: 269986.7211 - mse: 269986.7188 - val_loss: 24141.4087 - val_mse: 24141.4102\n",
      "Epoch 2/50\n",
      "1202/1202 - 0s - loss: 8501.6998 - mse: 8501.7002 - val_loss: 5760.5757 - val_mse: 5760.5762\n",
      "Epoch 3/50\n",
      "1202/1202 - 0s - loss: 5548.0350 - mse: 5548.0352 - val_loss: 4982.5668 - val_mse: 4982.5664\n",
      "Epoch 4/50\n",
      "1202/1202 - 0s - loss: 5093.9705 - mse: 5093.9712 - val_loss: 4850.7736 - val_mse: 4850.7734\n",
      "Epoch 5/50\n",
      "1202/1202 - 0s - loss: 4780.0297 - mse: 4780.0293 - val_loss: 4428.6916 - val_mse: 4428.6914\n",
      "Epoch 6/50\n",
      "1202/1202 - 0s - loss: 4567.8652 - mse: 4567.8652 - val_loss: 4056.1734 - val_mse: 4056.1736\n",
      "Epoch 7/50\n",
      "1202/1202 - 0s - loss: 4214.3119 - mse: 4214.3120 - val_loss: 3878.6660 - val_mse: 3878.6658\n",
      "Epoch 8/50\n",
      "1202/1202 - 0s - loss: 3961.5965 - mse: 3961.5964 - val_loss: 3639.8862 - val_mse: 3639.8857\n",
      "Epoch 9/50\n",
      "1202/1202 - 0s - loss: 3733.0285 - mse: 3733.0283 - val_loss: 3731.4691 - val_mse: 3731.4688\n",
      "Epoch 10/50\n",
      "1202/1202 - 0s - loss: 3554.4372 - mse: 3554.4373 - val_loss: 3297.3845 - val_mse: 3297.3843\n",
      "Epoch 11/50\n",
      "1202/1202 - 0s - loss: 3350.4036 - mse: 3350.4036 - val_loss: 3169.1389 - val_mse: 3169.1387\n",
      "Epoch 12/50\n",
      "1202/1202 - 0s - loss: 3236.1463 - mse: 3236.1460 - val_loss: 3008.2396 - val_mse: 3008.2397\n",
      "Epoch 13/50\n",
      "1202/1202 - 0s - loss: 3103.0498 - mse: 3103.0500 - val_loss: 2891.8593 - val_mse: 2891.8596\n",
      "Epoch 14/50\n",
      "1202/1202 - 0s - loss: 2914.8637 - mse: 2914.8635 - val_loss: 2806.2964 - val_mse: 2806.2966\n",
      "Epoch 15/50\n",
      "1202/1202 - 0s - loss: 2772.7247 - mse: 2772.7249 - val_loss: 2680.4094 - val_mse: 2680.4092\n",
      "Epoch 16/50\n",
      "1202/1202 - 0s - loss: 2650.6444 - mse: 2650.6443 - val_loss: 2583.3465 - val_mse: 2583.3464\n",
      "Epoch 17/50\n",
      "1202/1202 - 0s - loss: 2536.9295 - mse: 2536.9294 - val_loss: 2473.8151 - val_mse: 2473.8154\n",
      "Epoch 18/50\n",
      "1202/1202 - 0s - loss: 2444.8783 - mse: 2444.8782 - val_loss: 2441.2404 - val_mse: 2441.2402\n",
      "Epoch 19/50\n",
      "1202/1202 - 0s - loss: 2353.5694 - mse: 2353.5696 - val_loss: 2345.8958 - val_mse: 2345.8958\n",
      "Epoch 20/50\n",
      "1202/1202 - 0s - loss: 2296.0798 - mse: 2296.0793 - val_loss: 2253.3311 - val_mse: 2253.3313\n",
      "Epoch 21/50\n",
      "1202/1202 - 0s - loss: 2213.3668 - mse: 2213.3667 - val_loss: 2214.9506 - val_mse: 2214.9507\n",
      "Epoch 22/50\n",
      "1202/1202 - 0s - loss: 2151.4780 - mse: 2151.4778 - val_loss: 2282.5736 - val_mse: 2282.5735\n",
      "Epoch 23/50\n",
      "1202/1202 - 0s - loss: 2061.0826 - mse: 2061.0825 - val_loss: 2080.9314 - val_mse: 2080.9314\n",
      "Epoch 24/50\n",
      "1202/1202 - 0s - loss: 1991.4019 - mse: 1991.4019 - val_loss: 2045.7969 - val_mse: 2045.7971\n",
      "Epoch 25/50\n",
      "1202/1202 - 0s - loss: 1941.1364 - mse: 1941.1362 - val_loss: 2006.9995 - val_mse: 2006.9994\n",
      "Epoch 26/50\n",
      "1202/1202 - 0s - loss: 1895.4143 - mse: 1895.4146 - val_loss: 1949.5615 - val_mse: 1949.5616\n",
      "Epoch 27/50\n",
      "1202/1202 - 0s - loss: 1845.5276 - mse: 1845.5275 - val_loss: 1902.4886 - val_mse: 1902.4885\n",
      "Epoch 28/50\n",
      "1202/1202 - 0s - loss: 1796.5977 - mse: 1796.5975 - val_loss: 1861.2837 - val_mse: 1861.2838\n",
      "Epoch 29/50\n",
      "1202/1202 - 0s - loss: 1758.4934 - mse: 1758.4933 - val_loss: 1845.5599 - val_mse: 1845.5601\n",
      "Epoch 30/50\n",
      "1202/1202 - 0s - loss: 1733.0924 - mse: 1733.0923 - val_loss: 1794.2437 - val_mse: 1794.2435\n",
      "Epoch 31/50\n",
      "1202/1202 - 0s - loss: 1716.3302 - mse: 1716.3301 - val_loss: 1786.6011 - val_mse: 1786.6011\n",
      "Epoch 32/50\n",
      "1202/1202 - 0s - loss: 1689.7355 - mse: 1689.7356 - val_loss: 1832.7235 - val_mse: 1832.7236\n",
      "Epoch 33/50\n",
      "1202/1202 - 0s - loss: 1658.0842 - mse: 1658.0841 - val_loss: 1709.2834 - val_mse: 1709.2836\n",
      "Epoch 34/50\n",
      "1202/1202 - 0s - loss: 1598.8228 - mse: 1598.8226 - val_loss: 1719.6163 - val_mse: 1719.6165\n",
      "Epoch 35/50\n",
      "1202/1202 - 0s - loss: 1564.6328 - mse: 1564.6329 - val_loss: 1662.1290 - val_mse: 1662.1290\n",
      "Epoch 36/50\n",
      "1202/1202 - 0s - loss: 1551.7126 - mse: 1551.7126 - val_loss: 1682.2267 - val_mse: 1682.2268\n",
      "Epoch 37/50\n",
      "1202/1202 - 0s - loss: 1523.8316 - mse: 1523.8314 - val_loss: 1622.3125 - val_mse: 1622.3126\n",
      "Epoch 38/50\n",
      "1202/1202 - 0s - loss: 1515.6384 - mse: 1515.6383 - val_loss: 1672.7780 - val_mse: 1672.7781\n",
      "Epoch 39/50\n",
      "1202/1202 - 0s - loss: 1479.6647 - mse: 1479.6648 - val_loss: 1597.6450 - val_mse: 1597.6450\n",
      "Epoch 40/50\n",
      "1202/1202 - 0s - loss: 1484.5221 - mse: 1484.5221 - val_loss: 1635.8329 - val_mse: 1635.8329\n",
      "Epoch 41/50\n",
      "1202/1202 - 0s - loss: 1452.2021 - mse: 1452.2020 - val_loss: 1620.1488 - val_mse: 1620.1489\n",
      "Epoch 42/50\n",
      "1202/1202 - 0s - loss: 1431.7349 - mse: 1431.7350 - val_loss: 1600.0525 - val_mse: 1600.0525\n",
      "Epoch 43/50\n",
      "1202/1202 - 0s - loss: 1418.1263 - mse: 1418.1263 - val_loss: 1539.2774 - val_mse: 1539.2773\n",
      "Epoch 44/50\n",
      "1202/1202 - 0s - loss: 1403.2083 - mse: 1403.2083 - val_loss: 1509.8726 - val_mse: 1509.8726\n",
      "Epoch 45/50\n",
      "1202/1202 - 0s - loss: 1408.4275 - mse: 1408.4274 - val_loss: 1559.3793 - val_mse: 1559.3793\n",
      "Epoch 46/50\n",
      "1202/1202 - 0s - loss: 1387.7619 - mse: 1387.7617 - val_loss: 1504.6372 - val_mse: 1504.6372\n",
      "Epoch 47/50\n",
      "1202/1202 - 0s - loss: 1376.2861 - mse: 1376.2861 - val_loss: 1472.5004 - val_mse: 1472.5004\n",
      "Epoch 48/50\n",
      "1202/1202 - 0s - loss: 1361.4940 - mse: 1361.4943 - val_loss: 1563.9307 - val_mse: 1563.9307\n",
      "Epoch 49/50\n",
      "1202/1202 - 0s - loss: 1352.6557 - mse: 1352.6555 - val_loss: 1483.9732 - val_mse: 1483.9733\n",
      "Epoch 50/50\n",
      "1202/1202 - 0s - loss: 1338.6773 - mse: 1338.6774 - val_loss: 1451.4003 - val_mse: 1451.4003\n"
     ]
    },
    {
     "data": {
      "text/plain": [
       "<tensorflow.python.keras.callbacks.History at 0x2bff1410ac8>"
      ]
     },
     "execution_count": 68,
     "metadata": {},
     "output_type": "execute_result"
    }
   ],
   "source": [
    "#train your model\n",
    "regressor.fit(x=X_train,y=y_train,epochs=50,batch_size=32,verbose=2,validation_data=(X_test,y_test))"
   ]
  },
  {
   "cell_type": "code",
   "execution_count": 69,
   "metadata": {},
   "outputs": [
    {
     "name": "stdout",
     "output_type": "stream",
     "text": [
      "\r",
      "301/1 [======================================================================================================================================================================================================================================================================================================================================================================================================================================================================================================================================================================================================================================================================================================================================================================================================================================================================================================================================================================================================================================================================================================================================================================================================================================================================================================================================================================================================================================================================================================================================================================================================================================================================================================================================================================================================================================================================================================================================================================================================================================================================================================================================================================================================================================================================================================================================================================================================================================================================================================================================================================================================================================================================================================================================================================================================================================================================================================================================================================================================================================================================================================================================================================================================================================================================================================================================================================================================================================================================================================================================================================================================================================================================================================================================================================================================================================================================================================================================================================================================================================================================================================================================================================================================================================================================================================================================================================================================================================================================================================================================================================================================================================================================================================================================================================================================================================================================================================================================================================================================================================================================================================================================================================================================================================================================================================================================================================================================================================================================================================================================================================================================================================================================================================================================================================================================================================================================================================================================================================================================================================================================================================================================================================================================================================================================================================================================================================================================================================================================================================================================================================================================================================================================================================================================================================================================================================================================================================================================================================================================================================================================================================================================================================================================================================================================================================================================================================================================================================================================================================================================================================================================================================================================================================================================================================================================================================================================================================================================================================================================================================================================================================================================================================================================================================================================================================================================================================================================================================================================================================================================================================================================================================================================================================================================================================================================================================================================================================================================================================================================================================================================================================================================================================================================================================================================================================================================================================================================] - 0s 26us/sample - loss: 1364.0550 - mse: 1451.4003\n"
     ]
    },
    {
     "data": {
      "text/plain": [
       "[1451.4002795045162, 1451.4003]"
      ]
     },
     "execution_count": 69,
     "metadata": {},
     "output_type": "execute_result"
    }
   ],
   "source": [
    "#evaluating your model\n",
    "regressor.evaluate(X_test,y_test)"
   ]
  },
  {
   "cell_type": "code",
   "execution_count": 70,
   "metadata": {},
   "outputs": [],
   "source": [
    "#predicting in new data\n",
    "y_pred = regressor.predict(X_test)"
   ]
  },
  {
   "cell_type": "code",
   "execution_count": 75,
   "metadata": {},
   "outputs": [
    {
     "name": "stdout",
     "output_type": "stream",
     "text": [
      "Root mean square of the Model is  38.09724699932497\n"
     ]
    }
   ],
   "source": [
    "#evaluting the model\n",
    "from sklearn.metrics import mean_squared_error\n",
    "print(\"Root mean square of the Model is \", np.sqrt(mean_squared_error(y_test,y_pred)))"
   ]
  }
 ],
 "metadata": {
  "kernelspec": {
   "display_name": "Python 3",
   "language": "python",
   "name": "python3"
  },
  "language_info": {
   "codemirror_mode": {
    "name": "ipython",
    "version": 3
   },
   "file_extension": ".py",
   "mimetype": "text/x-python",
   "name": "python",
   "nbconvert_exporter": "python",
   "pygments_lexer": "ipython3",
   "version": "3.7.7"
  }
 },
 "nbformat": 4,
 "nbformat_minor": 4
}
